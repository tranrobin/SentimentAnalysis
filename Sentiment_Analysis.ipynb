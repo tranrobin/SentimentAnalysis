{
  "nbformat": 4,
  "nbformat_minor": 0,
  "metadata": {
    "colab": {
      "provenance": [],
      "include_colab_link": true
    },
    "kernelspec": {
      "name": "python3",
      "display_name": "Python 3"
    },
    "language_info": {
      "name": "python"
    }
  },
  "cells": [
    {
      "cell_type": "markdown",
      "metadata": {
        "id": "view-in-github",
        "colab_type": "text"
      },
      "source": [
        "<a href=\"https://colab.research.google.com/github/tranrobin/SentimentAnalysis/blob/main/Sentiment_Analysis.ipynb\" target=\"_parent\"><img src=\"https://colab.research.google.com/assets/colab-badge.svg\" alt=\"Open In Colab\"/></a>"
      ]
    },
    {
      "cell_type": "code",
      "source": [
        "import pandas as pd\n",
        "import numpy as np\n",
        "import torch\n",
        "import re\n",
        "from sklearn.model_selection import train_test_split\n",
        "from sklearn.naive_bayes import GaussianNB\n",
        "from joblib import dump\n",
        "from transformers import AutoModel, AutoTokenizer\n",
        "import underthesea\n",
        "os.environ[\"KMP_DUPLICATE_LIB_OK\"]=\"TRUE\""
      ],
      "metadata": {
        "colab": {
          "base_uri": "https://localhost:8080/",
          "height": 378
        },
        "id": "X9RzSYvgHleD",
        "outputId": "10e963a7-066e-48d8-e5f6-612e4a1260c5"
      },
      "execution_count": 1,
      "outputs": [
        {
          "output_type": "error",
          "ename": "ModuleNotFoundError",
          "evalue": "ignored",
          "traceback": [
            "\u001b[0;31m---------------------------------------------------------------------------\u001b[0m",
            "\u001b[0;31mModuleNotFoundError\u001b[0m                       Traceback (most recent call last)",
            "\u001b[0;32m<ipython-input-1-5c4baac8c41a>\u001b[0m in \u001b[0;36m<cell line: 8>\u001b[0;34m()\u001b[0m\n\u001b[1;32m      6\u001b[0m \u001b[0;32mfrom\u001b[0m \u001b[0msklearn\u001b[0m\u001b[0;34m.\u001b[0m\u001b[0mnaive_bayes\u001b[0m \u001b[0;32mimport\u001b[0m \u001b[0mGaussianNB\u001b[0m\u001b[0;34m\u001b[0m\u001b[0;34m\u001b[0m\u001b[0m\n\u001b[1;32m      7\u001b[0m \u001b[0;32mfrom\u001b[0m \u001b[0mjoblib\u001b[0m \u001b[0;32mimport\u001b[0m \u001b[0mdump\u001b[0m\u001b[0;34m\u001b[0m\u001b[0;34m\u001b[0m\u001b[0m\n\u001b[0;32m----> 8\u001b[0;31m \u001b[0;32mfrom\u001b[0m \u001b[0mtransformers\u001b[0m \u001b[0;32mimport\u001b[0m \u001b[0mAutoModel\u001b[0m\u001b[0;34m,\u001b[0m \u001b[0mAutoTokenizer\u001b[0m\u001b[0;34m\u001b[0m\u001b[0;34m\u001b[0m\u001b[0m\n\u001b[0m\u001b[1;32m      9\u001b[0m \u001b[0;32mimport\u001b[0m \u001b[0munderthesea\u001b[0m\u001b[0;34m\u001b[0m\u001b[0;34m\u001b[0m\u001b[0m\n\u001b[1;32m     10\u001b[0m \u001b[0mos\u001b[0m\u001b[0;34m.\u001b[0m\u001b[0menviron\u001b[0m\u001b[0;34m[\u001b[0m\u001b[0;34m\"KMP_DUPLICATE_LIB_OK\"\u001b[0m\u001b[0;34m]\u001b[0m\u001b[0;34m=\u001b[0m\u001b[0;34m\"TRUE\"\u001b[0m\u001b[0;34m\u001b[0m\u001b[0;34m\u001b[0m\u001b[0m\n",
            "\u001b[0;31mModuleNotFoundError\u001b[0m: No module named 'transformers'",
            "",
            "\u001b[0;31m---------------------------------------------------------------------------\u001b[0;32m\nNOTE: If your import is failing due to a missing package, you can\nmanually install dependencies using either !pip or !apt.\n\nTo view examples of installing some common dependencies, click the\n\"Open Examples\" button below.\n\u001b[0;31m---------------------------------------------------------------------------\u001b[0m\n"
          ],
          "errorDetails": {
            "actions": [
              {
                "action": "open_url",
                "actionText": "Open Examples",
                "url": "/notebooks/snippets/importing_libraries.ipynb"
              }
            ]
          }
        }
      ]
    },
    {
      "cell_type": "code",
      "source": [
        "# Define a function to load the PhoBERT model and tokenizer\n",
        "def load_phobert():\n",
        "    phobert = AutoModel.from_pretrained(\"vinai/phobert-base\")\n",
        "    tokenizer = AutoTokenizer.from_pretrained(\"vinai/phobert-base\", use_fast=False)\n",
        "    return phobert, tokenizer"
      ],
      "metadata": {
        "id": "wL2yq2g9HsMO"
      },
      "execution_count": null,
      "outputs": []
    },
    {
      "cell_type": "code",
      "source": [
        "# Define a function to preprocess text\n",
        "def preprocess_text(text, stopwords):\n",
        "    text = re.sub(r\"[.,?]+$-\", \"\", text)\n",
        "    text = re.sub(r\"[,.;:“”\\\"'!?\\-]\", \" \", text)\n",
        "    text = text.strip().lower()\n",
        "\n",
        "    tokens = underthesea.word_tokenize(text)\n",
        "    filtered_tokens = [w for w in tokens if w not in stopwords]\n",
        "    preprocessed_text = \" \".join(filtered_tokens)\n",
        "\n",
        "    return preprocessed_text"
      ],
      "metadata": {
        "id": "Nsf4fA0yHub7"
      },
      "execution_count": null,
      "outputs": []
    },
    {
      "cell_type": "code",
      "source": [
        "# Load stopwords\n",
        "def load_stopwords(stopword_file):\n",
        "    stopwords = []\n",
        "    with open(stopword_file, encoding='utf-8') as f:\n",
        "        stopwords = [line.strip() for line in f.readlines()]\n",
        "    return stopwords"
      ],
      "metadata": {
        "id": "1u6sVJ2sAGnv"
      },
      "execution_count": null,
      "outputs": []
    },
    {
      "cell_type": "code",
      "source": [
        "# Load and preprocess data\n",
        "def load_and_preprocess_data(data_file, stopwords):\n",
        "    df = pd.read_csv(data_file)\n",
        "    text = df['comment'].apply(lambda x: preprocess_text(x, stopwords))\n",
        "    label = df['classify'].fillna(2.0).astype(float)\n",
        "    return text, label"
      ],
      "metadata": {
        "id": "IqF1gc9aHvEr"
      },
      "execution_count": null,
      "outputs": []
    },
    {
      "cell_type": "code",
      "source": [
        "# Extract BERT features\n",
        "def extract_bert_features(text, max_len, phobert, tokenizer):\n",
        "    tokenized_text = [tokenizer.encode(t, padding='max_length', max_length=max_len, truncation=True) for t in text]\n",
        "    attention_mask = [[1 if token_id != 0 else 0 for token_id in token_ids] for token_ids in tokenized_text]\n",
        "\n",
        "    input_ids = torch.tensor(tokenized_text)\n",
        "    attention_mask = torch.tensor(attention_mask)\n",
        "\n",
        "    with torch.no_grad():\n",
        "        last_hidden_states = phobert(input_ids=input_ids, attention_mask=attention_mask)\n",
        "\n",
        "    features = last_hidden_states[0][:, 0, :].numpy()\n",
        "    return features"
      ],
      "metadata": {
        "id": "MS1Rm96k_hnx"
      },
      "execution_count": null,
      "outputs": []
    },
    {
      "cell_type": "code",
      "source": [
        "# Main function\n",
        "def main():\n",
        "    # Define parameters\n",
        "    stopword_file = \"stopword.txt\"\n",
        "    data_file = \"comment.csv\"\n",
        "    max_sequence_length = 100\n",
        "\n",
        "    print(\"Loading stopwords...\")\n",
        "    sw = load_stopwords(stopword_file)\n",
        "    print(\"Stopwords loaded.\")\n",
        "\n",
        "    print(\"Loading PhoBERT model...\")\n",
        "    phobert, tokenizer = load_phobert()\n",
        "    print(\"PhoBERT model loaded.\")\n",
        "\n",
        "    print(\"Loading and preprocessing data...\")\n",
        "    text, label = load_and_preprocess_data(data_file, sw)\n",
        "    print(\"Data loaded and preprocessed.\")\n",
        "\n",
        "    print(\"Extracting BERT features...\")\n",
        "    features = extract_bert_features(text, max_sequence_length, phobert, tokenizer)\n",
        "    print(\"BERT features extracted.\")\n",
        "\n",
        "    # Split data\n",
        "    X_train, X_test, y_train, y_test = train_test_split(features, label, test_size=0.1, random_state=45)\n",
        "\n",
        "    print(\"Training Gaussian Naive Bayes model...\")\n",
        "    clf = GaussianNB()\n",
        "    clf.fit(X_train, y_train)\n",
        "\n",
        "    accuracy = clf.score(X_test, y_test)\n",
        "    print(f'Model training completed. Accuracy: {accuracy * 100:.2f}%')\n",
        "\n",
        "    # Save the trained model\n",
        "    dump(clf, 'saved_model.pkl')\n",
        "    print(\"Model saved as 'saved_model.pkl'.\")"
      ],
      "metadata": {
        "id": "MweTciej_urZ"
      },
      "execution_count": null,
      "outputs": []
    },
    {
      "cell_type": "code",
      "source": [
        "if __name__ == \"__main__\":\n",
        "    main()"
      ],
      "metadata": {
        "id": "rx7DN2IbH2KI"
      },
      "execution_count": null,
      "outputs": []
    }
  ]
}