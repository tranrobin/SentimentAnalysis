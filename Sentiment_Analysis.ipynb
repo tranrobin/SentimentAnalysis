{
  "nbformat": 4,
  "nbformat_minor": 0,
  "metadata": {
    "colab": {
      "provenance": [],
      "include_colab_link": true
    },
    "kernelspec": {
      "name": "python3",
      "display_name": "Python 3"
    },
    "language_info": {
      "name": "python"
    }
  },
  "cells": [
    {
      "cell_type": "markdown",
      "metadata": {
        "id": "view-in-github",
        "colab_type": "text"
      },
      "source": [
        "<a href=\"https://colab.research.google.com/github/tranrobin/SentimentAnalysis/blob/main/Sentiment_Analysis.ipynb\" target=\"_parent\"><img src=\"https://colab.research.google.com/assets/colab-badge.svg\" alt=\"Open In Colab\"/></a>"
      ]
    },
    {
      "cell_type": "code",
      "source": [
        "!pip install transformers\n",
        "!pip install underthesea\n",
        "\n",
        "import pandas as pd\n",
        "import numpy as np\n",
        "import torch\n",
        "import re\n",
        "from sklearn.model_selection import train_test_split\n",
        "from sklearn.naive_bayes import GaussianNB\n",
        "from joblib import dump\n",
        "from transformers import AutoModel, AutoTokenizer\n",
        "import underthesea"
      ],
      "metadata": {
        "colab": {
          "base_uri": "https://localhost:8080/"
        },
        "id": "X9RzSYvgHleD",
        "outputId": "ea20ebc2-9c67-4ccb-a588-663d2ab8ee2a"
      },
      "execution_count": null,
      "outputs": [
        {
          "output_type": "stream",
          "name": "stdout",
          "text": [
            "Requirement already satisfied: transformers in /usr/local/lib/python3.10/dist-packages (4.33.1)\n",
            "Requirement already satisfied: filelock in /usr/local/lib/python3.10/dist-packages (from transformers) (3.12.2)\n",
            "Requirement already satisfied: huggingface-hub<1.0,>=0.15.1 in /usr/local/lib/python3.10/dist-packages (from transformers) (0.16.4)\n",
            "Requirement already satisfied: numpy>=1.17 in /usr/local/lib/python3.10/dist-packages (from transformers) (1.23.5)\n",
            "Requirement already satisfied: packaging>=20.0 in /usr/local/lib/python3.10/dist-packages (from transformers) (23.1)\n",
            "Requirement already satisfied: pyyaml>=5.1 in /usr/local/lib/python3.10/dist-packages (from transformers) (6.0.1)\n",
            "Requirement already satisfied: regex!=2019.12.17 in /usr/local/lib/python3.10/dist-packages (from transformers) (2023.6.3)\n",
            "Requirement already satisfied: requests in /usr/local/lib/python3.10/dist-packages (from transformers) (2.31.0)\n",
            "Requirement already satisfied: tokenizers!=0.11.3,<0.14,>=0.11.1 in /usr/local/lib/python3.10/dist-packages (from transformers) (0.13.3)\n",
            "Requirement already satisfied: safetensors>=0.3.1 in /usr/local/lib/python3.10/dist-packages (from transformers) (0.3.3)\n",
            "Requirement already satisfied: tqdm>=4.27 in /usr/local/lib/python3.10/dist-packages (from transformers) (4.66.1)\n",
            "Requirement already satisfied: fsspec in /usr/local/lib/python3.10/dist-packages (from huggingface-hub<1.0,>=0.15.1->transformers) (2023.6.0)\n",
            "Requirement already satisfied: typing-extensions>=3.7.4.3 in /usr/local/lib/python3.10/dist-packages (from huggingface-hub<1.0,>=0.15.1->transformers) (4.5.0)\n",
            "Requirement already satisfied: charset-normalizer<4,>=2 in /usr/local/lib/python3.10/dist-packages (from requests->transformers) (3.2.0)\n",
            "Requirement already satisfied: idna<4,>=2.5 in /usr/local/lib/python3.10/dist-packages (from requests->transformers) (3.4)\n",
            "Requirement already satisfied: urllib3<3,>=1.21.1 in /usr/local/lib/python3.10/dist-packages (from requests->transformers) (2.0.4)\n",
            "Requirement already satisfied: certifi>=2017.4.17 in /usr/local/lib/python3.10/dist-packages (from requests->transformers) (2023.7.22)\n"
          ]
        }
      ]
    },
    {
      "cell_type": "code",
      "source": [
        "# Define a function to load the PhoBERT model and tokenizer\n",
        "def load_phobert():\n",
        "    phobert = AutoModel.from_pretrained(\"vinai/phobert-base\")\n",
        "    tokenizer = AutoTokenizer.from_pretrained(\"vinai/phobert-base\", use_fast=False)\n",
        "    return phobert, tokenizer"
      ],
      "metadata": {
        "id": "wL2yq2g9HsMO"
      },
      "execution_count": null,
      "outputs": []
    },
    {
      "cell_type": "code",
      "source": [
        "# Define a function to preprocess text\n",
        "def preprocess_text(text, stopwords):\n",
        "    text = re.sub(r\"[.,?]+$-\", \"\", text)\n",
        "    text = re.sub(r\"[,.;:“”\\\"'!?\\-]\", \" \", text)\n",
        "    text = text.strip().lower()\n",
        "\n",
        "    tokens = underthesea.word_tokenize(text)\n",
        "    filtered_tokens = [w for w in tokens if w not in stopwords]\n",
        "    preprocessed_text = \" \".join(filtered_tokens)\n",
        "\n",
        "    return preprocessed_text"
      ],
      "metadata": {
        "id": "Nsf4fA0yHub7"
      },
      "execution_count": null,
      "outputs": []
    },
    {
      "cell_type": "code",
      "source": [
        "# Load stopwords\n",
        "def load_stopwords(stopword_file):\n",
        "    stopwords = []\n",
        "    with open(stopword_file, encoding='utf-8') as f:\n",
        "        stopwords = [line.strip() for line in f.readlines()]\n",
        "    return stopwords"
      ],
      "metadata": {
        "id": "1u6sVJ2sAGnv"
      },
      "execution_count": null,
      "outputs": []
    },
    {
      "cell_type": "code",
      "source": [
        "# Load and preprocess data\n",
        "def load_and_preprocess_data(data_file, stopwords):\n",
        "    df = pd.read_csv(data_file)\n",
        "    text = df['comment'].apply(lambda x: preprocess_text(x, stopwords))\n",
        "    label = df['classify'].fillna(2.0).astype(float)\n",
        "    return text, label"
      ],
      "metadata": {
        "id": "IqF1gc9aHvEr"
      },
      "execution_count": null,
      "outputs": []
    },
    {
      "cell_type": "code",
      "source": [
        "# Extract BERT features\n",
        "def extract_bert_features(text, max_len, phobert, tokenizer):\n",
        "    tokenized_text = [tokenizer.encode(t, padding='max_length', max_length=max_len, truncation=True) for t in text]\n",
        "    attention_mask = [[1 if token_id != 0 else 0 for token_id in token_ids] for token_ids in tokenized_text]\n",
        "\n",
        "    input_ids = torch.tensor(tokenized_text)\n",
        "    attention_mask = torch.tensor(attention_mask)\n",
        "\n",
        "    with torch.no_grad():\n",
        "        last_hidden_states = phobert(input_ids=input_ids, attention_mask=attention_mask)\n",
        "\n",
        "    features = last_hidden_states[0][:, 0, :].numpy()\n",
        "    return features"
      ],
      "metadata": {
        "id": "MS1Rm96k_hnx"
      },
      "execution_count": null,
      "outputs": []
    },
    {
      "cell_type": "code",
      "source": [
        "# Main function\n",
        "def main():\n",
        "    # Define parameters\n",
        "    stopword_file = \"stopword.txt\"\n",
        "    data_file = \"comment.csv\"\n",
        "    max_sequence_length = 100\n",
        "\n",
        "    print(\"Loading stopwords...\")\n",
        "    sw = load_stopwords(stopword_file)\n",
        "    print(\"Stopwords loaded.\")\n",
        "\n",
        "    print(\"Loading PhoBERT model...\")\n",
        "    phobert, tokenizer = load_phobert()\n",
        "    print(\"PhoBERT model loaded.\")\n",
        "\n",
        "    print(\"Loading and preprocessing data...\")\n",
        "    text, label = load_and_preprocess_data(data_file, sw)\n",
        "    print(\"Data loaded and preprocessed.\")\n",
        "\n",
        "    print(\"Extracting BERT features...\")\n",
        "    features = extract_bert_features(text, max_sequence_length, phobert, tokenizer)\n",
        "    print(\"BERT features extracted.\")\n",
        "\n",
        "    # Split data\n",
        "    X_train, X_test, y_train, y_test = train_test_split(features, label, test_size=0.1, random_state=45)\n",
        "\n",
        "    print(\"Training Gaussian Naive Bayes model...\")\n",
        "    clf = GaussianNB()\n",
        "    clf.fit(X_train, y_train)\n",
        "\n",
        "    accuracy = clf.score(X_test, y_test)\n",
        "    print(f'Model training completed. Accuracy: {accuracy * 100:.2f}%')\n",
        "\n",
        "    # Save the trained model\n",
        "    dump(clf, 'saved_model.pkl')\n",
        "    print(\"Model saved as 'saved_model.pkl'.\")"
      ],
      "metadata": {
        "id": "MweTciej_urZ"
      },
      "execution_count": null,
      "outputs": []
    },
    {
      "cell_type": "code",
      "source": [
        "if __name__ == \"__main__\":\n",
        "    main()"
      ],
      "metadata": {
        "id": "rx7DN2IbH2KI"
      },
      "execution_count": null,
      "outputs": []
    }
  ]
}